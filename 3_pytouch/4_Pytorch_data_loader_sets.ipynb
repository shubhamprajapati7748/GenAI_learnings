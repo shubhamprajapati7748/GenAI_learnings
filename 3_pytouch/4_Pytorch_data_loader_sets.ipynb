{
 "cells": [
  {
   "cell_type": "markdown",
   "metadata": {},
   "source": [
    "## DataLoader and DataSets\n",
    "\n",
    "- Whenever we pass the data into model -> We pass into Batches (Batch SGD) so that it could be process easily with less CPU computation\n",
    "\n",
    "Dataset= 100 -> Batch Size = 20 -> 100 / 20 => 5 Batches\n",
    "\n",
    "#### MiniBatch Gradient Descent\n",
    "- Memory efficient\n",
    "- Better convergence\n",
    "\n",
    "### DataSet -> For initialization of data\n",
    "- __init__()\n",
    "- __len__()\n",
    "- __getitem__()\n",
    "\n",
    "### DataLoader -> For Batches\n"
   ]
  },
  {
   "cell_type": "code",
   "execution_count": 1,
   "metadata": {},
   "outputs": [],
   "source": [
    "from sklearn.datasets import make_classification \n",
    "import torch "
   ]
  },
  {
   "cell_type": "code",
   "execution_count": 13,
   "metadata": {},
   "outputs": [],
   "source": [
    "X, y = make_classification(\n",
    "    n_classes=2,\n",
    "    n_samples=10,\n",
    ")"
   ]
  },
  {
   "cell_type": "code",
   "execution_count": 3,
   "metadata": {},
   "outputs": [
    {
     "data": {
      "text/plain": [
       "array([[-1.46930952, -0.51497568, -1.30086439,  0.73670307,  1.56182039,\n",
       "         0.44285738, -0.58880513,  0.00645404,  0.85454259, -0.34811455,\n",
       "         0.50807647,  0.37606431,  0.13186248, -0.58209252,  0.60098358,\n",
       "        -1.34369256,  0.65292527, -1.16981983, -0.80594645,  0.83935654],\n",
       "       [ 0.17656379,  0.89082523,  0.49459966,  0.72305362, -0.27583923,\n",
       "         1.63250722, -1.42186842, -2.509238  , -0.29409555,  1.01560672,\n",
       "        -0.28899211,  1.40538456, -1.07061075, -1.25630089, -0.92631494,\n",
       "        -0.21765768,  0.2677878 , -0.14897068,  1.77968797,  1.03713925],\n",
       "       [-1.17591226,  1.05949794,  1.08038682,  0.37089239,  0.06218165,\n",
       "         0.43026521,  0.50641511, -2.01603235,  0.54936101,  0.88622384,\n",
       "        -1.26766631,  1.16759521, -1.70193914, -0.05616054, -0.19514072,\n",
       "         0.22667736,  1.59890752,  1.12114939,  1.59279811,  0.66209974],\n",
       "       [-1.00343192,  1.08233792,  0.43348499,  1.24291002, -0.20513748,\n",
       "        -0.16891171,  0.83927518, -0.08485098, -0.31518376, -0.28439957,\n",
       "        -0.47572819,  0.40767047,  0.69691132,  0.18370938,  1.55084311,\n",
       "         1.75441123, -0.28118946, -2.11943804, -0.67912104,  0.81187977],\n",
       "       [ 2.27573369,  0.07917086,  0.41523726,  0.60208029,  0.55171326,\n",
       "         0.35440955, -0.06840542,  0.03670642,  0.00844453, -0.4032688 ,\n",
       "        -1.30976374,  1.49158977,  0.89732305, -0.38587492,  0.62282735,\n",
       "        -0.16787464, -1.24258876,  0.36927604, -0.92692916,  0.93142763],\n",
       "       [-1.83405628,  0.0311366 ,  0.11774652,  0.82531327,  0.17670014,\n",
       "        -0.15191311, -1.79544936,  1.74845451,  2.87040911, -0.32532035,\n",
       "        -0.48001485,  0.20006467, -0.02589371,  0.97626094,  0.39973044,\n",
       "        -0.27593911, -0.61443291, -0.42502098, -0.35323773, -1.65453958],\n",
       "       [-0.14980577, -0.58209588, -1.13356069,  0.50363485, -0.85685235,\n",
       "         0.20373316, -1.02405631,  2.11636255,  0.22520554, -0.60928618,\n",
       "         1.28201711, -1.12180317,  0.46778834,  0.70317705, -1.28978274,\n",
       "         0.46472847, -0.06288139, -0.23441277, -0.92743153, -1.47746093],\n",
       "       [ 0.61016303, -1.01927281, -1.08861025,  1.4662218 ,  1.48715774,\n",
       "         0.39501114,  0.34411828, -0.46219056, -0.33560502,  0.20614893,\n",
       "         0.37224658,  1.33380778,  1.85852085,  0.94596125, -0.05124621,\n",
       "        -0.07542469, -1.25527303,  0.9426715 ,  0.37206229,  0.14453986],\n",
       "       [-0.11581177, -0.26948823, -0.44069239, -0.1574563 , -1.62733682,\n",
       "         0.01165111,  1.08593291,  0.34749751, -0.34472314,  0.09533494,\n",
       "        -1.4845536 , -1.06951293, -0.95670778,  1.21468869, -1.17061138,\n",
       "         0.98962183, -1.22859571,  0.47272074,  0.30088351, -0.71874641],\n",
       "       [-1.01849465, -0.24641447, -0.28833132, -0.59813678, -0.80602752,\n",
       "        -0.37557172,  0.19515739,  1.89239959, -0.10759744, -0.74459758,\n",
       "        -1.2276076 , -0.36320815,  0.66458518, -0.22579208, -0.68736564,\n",
       "        -0.85246666,  0.34990399,  0.12617253, -1.29268298, -0.83420383]])"
      ]
     },
     "execution_count": 3,
     "metadata": {},
     "output_type": "execute_result"
    }
   ],
   "source": [
    "X"
   ]
  },
  {
   "cell_type": "code",
   "execution_count": 4,
   "metadata": {},
   "outputs": [
    {
     "data": {
      "text/plain": [
       "array([1, 1, 1, 1, 1, 0, 0, 0, 0, 0])"
      ]
     },
     "execution_count": 4,
     "metadata": {},
     "output_type": "execute_result"
    }
   ],
   "source": [
    "y"
   ]
  },
  {
   "cell_type": "code",
   "execution_count": 6,
   "metadata": {},
   "outputs": [],
   "source": [
    "X_tensor = torch.tensor(X, dtype=float)\n",
    "y_tensor = torch.tensor(y, dtype=float)"
   ]
  },
  {
   "cell_type": "code",
   "execution_count": 7,
   "metadata": {},
   "outputs": [],
   "source": [
    "from torch.utils.data import Dataset, DataLoader"
   ]
  },
  {
   "cell_type": "code",
   "execution_count": 20,
   "metadata": {},
   "outputs": [],
   "source": [
    "class CustomDataset(Dataset):\n",
    "    def __init__(self, features, labels):\n",
    "        self.features = features\n",
    "        self.labels = labels # target columns \n",
    "\n",
    "    def __len__(self):\n",
    "        return self.features.shape[0] # length of data -> row \n",
    "\n",
    "    def __getitem__(self, index):\n",
    "        return self.features[index], self.labels[index]"
   ]
  },
  {
   "cell_type": "code",
   "execution_count": 21,
   "metadata": {},
   "outputs": [],
   "source": [
    "dataset = CustomDataset(X,y)"
   ]
  },
  {
   "cell_type": "code",
   "execution_count": 22,
   "metadata": {},
   "outputs": [
    {
     "data": {
      "text/plain": [
       "<__main__.CustomDataset at 0x1e92d12ff80>"
      ]
     },
     "execution_count": 22,
     "metadata": {},
     "output_type": "execute_result"
    }
   ],
   "source": [
    "dataset"
   ]
  },
  {
   "cell_type": "code",
   "execution_count": 23,
   "metadata": {},
   "outputs": [
    {
     "data": {
      "text/plain": [
       "10"
      ]
     },
     "execution_count": 23,
     "metadata": {},
     "output_type": "execute_result"
    }
   ],
   "source": [
    "len(dataset)"
   ]
  },
  {
   "cell_type": "code",
   "execution_count": 19,
   "metadata": {},
   "outputs": [
    {
     "data": {
      "text/plain": [
       "(array([-1.17591226,  1.05949794,  1.08038682,  0.37089239,  0.06218165,\n",
       "         0.43026521,  0.50641511, -2.01603235,  0.54936101,  0.88622384,\n",
       "        -1.26766631,  1.16759521, -1.70193914, -0.05616054, -0.19514072,\n",
       "         0.22667736,  1.59890752,  1.12114939,  1.59279811,  0.66209974]),\n",
       " np.int64(1))"
      ]
     },
     "execution_count": 19,
     "metadata": {},
     "output_type": "execute_result"
    }
   ],
   "source": [
    "dataset[2] ## 3rd row"
   ]
  },
  {
   "cell_type": "code",
   "execution_count": 24,
   "metadata": {},
   "outputs": [
    {
     "data": {
      "text/plain": [
       "(array([-0.17327744, -1.72436486, -0.15678134, -0.99263365, -0.67281922,\n",
       "        -0.5741705 ,  0.32259687,  0.52925581, -1.16039618, -0.14840071,\n",
       "        -1.02753022,  0.85893047,  0.22185898, -0.89442988,  0.12689251,\n",
       "         0.65573562,  0.13768309,  1.09918242, -0.04560399, -1.47288108]),\n",
       " np.int64(0))"
      ]
     },
     "execution_count": 24,
     "metadata": {},
     "output_type": "execute_result"
    }
   ],
   "source": [
    "dataset[9] # 10th row"
   ]
  },
  {
   "cell_type": "code",
   "execution_count": 30,
   "metadata": {},
   "outputs": [
    {
     "data": {
      "text/plain": [
       "<torch.utils.data.dataloader.DataLoader at 0x1e92f403f80>"
      ]
     },
     "execution_count": 30,
     "metadata": {},
     "output_type": "execute_result"
    }
   ],
   "source": [
    "dataloader = DataLoader(dataset, batch_size=2, shuffle=True)\n",
    "dataloader"
   ]
  },
  {
   "cell_type": "code",
   "execution_count": 31,
   "metadata": {},
   "outputs": [
    {
     "name": "stdout",
     "output_type": "stream",
     "text": [
      "tensor([[ 1.2142,  0.2598, -1.9787, -0.3066,  0.1403, -0.0091, -0.2166, -1.5985,\n",
      "         -1.0666,  0.0252, -1.3356,  1.2364, -0.5678,  0.7129,  1.2817,  0.5175,\n",
      "         -0.3770, -0.1548, -0.4983,  0.9954],\n",
      "        [ 0.3167, -0.4107, -1.1055, -0.5088, -0.7381,  1.6442,  0.0383, -0.9555,\n",
      "          1.2027,  0.4919, -1.2454,  0.5074, -0.2720,  0.1841,  0.6591, -0.3227,\n",
      "         -1.3143,  0.1847, -1.5457, -1.9082]], dtype=torch.float64)\n",
      "tensor([1, 1])\n",
      "==================================================\n",
      "tensor([[-0.6067, -0.1281, -0.9644,  0.0223, -2.2925,  1.8598, -0.7012, -1.7411,\n",
      "         -0.7923,  0.5471, -0.5301,  0.1605, -0.7072,  0.1997, -1.5874, -0.1912,\n",
      "         -1.3584, -1.6682,  1.0302, -0.7099],\n",
      "        [-0.3375, -0.7183, -0.4378,  0.2005,  2.6039,  0.7262,  0.2609, -1.1909,\n",
      "          0.6945,  0.1819,  1.7536, -1.3416,  2.0532,  1.0339, -1.3076, -0.5238,\n",
      "         -0.0950,  0.2584, -1.9072,  0.9188]], dtype=torch.float64)\n",
      "tensor([1, 1])\n",
      "==================================================\n",
      "tensor([[ 1.0376,  1.1867, -0.6169,  1.0821, -0.6547,  0.8427,  2.0917,  0.0985,\n",
      "          1.2889,  0.2321,  0.6110, -0.6280,  1.2035,  2.0121,  0.4883,  0.9549,\n",
      "         -0.3983,  0.9197,  1.3588, -1.0455],\n",
      "        [ 0.3000, -1.5554, -1.0226,  0.4889, -0.0563, -0.8883, -0.8274, -1.0840,\n",
      "         -1.7847, -0.2841,  3.4470, -1.0889,  1.3844, -1.1452, -0.5430, -0.2066,\n",
      "          0.9627,  0.8577,  0.3310, -2.4911]], dtype=torch.float64)\n",
      "tensor([1, 0])\n",
      "==================================================\n",
      "tensor([[ 0.1873,  0.1473, -0.6315,  2.1561, -1.3426,  0.5524,  0.2179,  0.1069,\n",
      "         -0.5695,  0.1275, -0.4773, -1.5010,  1.1911, -0.4501, -0.5890,  0.3963,\n",
      "          0.0768,  0.8868,  0.3628,  0.1479],\n",
      "        [ 0.0066,  1.0847,  0.2897, -0.0341, -1.3445, -2.5074, -0.8358, -0.7486,\n",
      "         -0.4442, -0.7456, -0.1413, -0.5712,  1.6874, -0.9552, -1.3741, -1.2464,\n",
      "          1.9415,  1.3973, -0.1185, -0.7653]], dtype=torch.float64)\n",
      "tensor([0, 0])\n",
      "==================================================\n",
      "tensor([[ 0.4842, -0.8489,  1.2654,  0.2408, -1.0944, -1.2836,  0.7872, -0.0852,\n",
      "          0.3632, -0.3540, -0.3486,  0.9332, -0.1555, -0.6593, -2.4044,  0.5791,\n",
      "          0.6138, -0.4659,  0.1753,  1.1034],\n",
      "        [-0.1733, -1.7244, -0.1568, -0.9926, -0.6728, -0.5742,  0.3226,  0.5293,\n",
      "         -1.1604, -0.1484, -1.0275,  0.8589,  0.2219, -0.8944,  0.1269,  0.6557,\n",
      "          0.1377,  1.0992, -0.0456, -1.4729]], dtype=torch.float64)\n",
      "tensor([0, 0])\n",
      "==================================================\n"
     ]
    }
   ],
   "source": [
    "for batch_features, batch_labels in dataloader:\n",
    "    print(batch_features)\n",
    "    print(batch_labels)\n",
    "    print(\"=\"*50)"
   ]
  },
  {
   "cell_type": "markdown",
   "metadata": {},
   "source": [
    "## Sentiment Analysis\n",
    "\n",
    "1. Load the sentiment analysis data (test.csv)\n",
    "2. Perform the text processing\n",
    "3. Should be 2 columns -> Text, sentiment\n",
    "4. Perform text encoding or embedding over the text data and labelEncoding and target column\n",
    "5. Write RNN code into Pytorch to train sentiment analysis model \n",
    "6. Test the model with random example"
   ]
  },
  {
   "cell_type": "code",
   "execution_count": null,
   "metadata": {},
   "outputs": [],
   "source": []
  },
  {
   "cell_type": "code",
   "execution_count": null,
   "metadata": {},
   "outputs": [],
   "source": [
    "##"
   ]
  },
  {
   "cell_type": "code",
   "execution_count": null,
   "metadata": {},
   "outputs": [],
   "source": []
  },
  {
   "cell_type": "code",
   "execution_count": null,
   "metadata": {},
   "outputs": [],
   "source": []
  },
  {
   "cell_type": "code",
   "execution_count": null,
   "metadata": {},
   "outputs": [],
   "source": []
  }
 ],
 "metadata": {
  "kernelspec": {
   "display_name": "Python 3",
   "language": "python",
   "name": "python3"
  },
  "language_info": {
   "codemirror_mode": {
    "name": "ipython",
    "version": 3
   },
   "file_extension": ".py",
   "mimetype": "text/x-python",
   "name": "python",
   "nbconvert_exporter": "python",
   "pygments_lexer": "ipython3",
   "version": "3.12.0"
  }
 },
 "nbformat": 4,
 "nbformat_minor": 2
}
